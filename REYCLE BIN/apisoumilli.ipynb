{
 "cells": [
  {
   "cell_type": "code",
   "execution_count": null,
   "id": "c845927b",
   "metadata": {},
   "outputs": [],
   "source": [
    "import requests\n",
    "import xml.etree.ElementTree as ET\n",
    "\n",
    "# WHO Athena API URL for Tuberculosis data\n",
    "url = \"http://apps.who.int/gho/athena/api/GHO/ENVCAUSE003\"\n",
    "\n",
    "try:\n",
    "    # Fetch data from WHO API\n",
    "    response = requests.get(url)\n",
    "    response.raise_for_status()\n",
    "\n",
    "    # Parse XML content\n",
    "    root = ET.fromstring(response.content)\n",
    "\n",
    "    # Loop through each 'Fact' entry\n",
    "    for fact in root.findall(\".//Fact\"):\n",
    "        country = fact.find(\".//Dim[@category='COUNTRY']\")\n",
    "        year = fact.find(\".//Dim[@category='YEAR']\")\n",
    "        sex = fact.find(\".//Dim[@category='SEX']\")\n",
    "        value = fact.find(\".//Value\")\n",
    "\n",
    "        print(\"-----------\")\n",
    "        print(\"Country:\", country.text if country is not None else \"N/A\")\n",
    "        print(\"Year:\", year.text if year is not None else \"N/A\")\n",
    "        print(\"Sex:\", sex.text if sex is not None else \"N/A\")\n",
    "        print(\"Value:\", value.attrib['numeric'] if value is not None else \"N/A\")\n",
    "\n",
    "except requests.exceptions.RequestException as e:\n",
    "    print(\"HTTP Request failed:\", e)\n",
    "except Exception as e:\n",
    "    print(\"Error parsing response:\", e)\n"
   ]
  }
 ],
 "metadata": {
  "kernelspec": {
   "display_name": "Python 3",
   "language": "python",
   "name": "python3"
  },
  "language_info": {
   "name": "python",
   "version": "3.11.9"
  }
 },
 "nbformat": 4,
 "nbformat_minor": 5
}
