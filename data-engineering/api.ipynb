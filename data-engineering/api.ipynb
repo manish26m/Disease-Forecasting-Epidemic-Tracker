{
 "cells": [
  {
   "cell_type": "code",
   "execution_count": 1,
   "id": "c29f7548",
   "metadata": {},
   "outputs": [
    {
     "name": "stdout",
     "output_type": "stream",
     "text": [
      "=== WHO Data (Athena API) ===\n",
      "1. MALARIA001: Malaria - number of reported deaths\n",
      "2. MALARIA004: Number of under-five deaths from malaria\n",
      "3. MALARIA002: Estimated number of malaria cases\n",
      "\n",
      "=== CDC Notifiable Diseases (Socrata API) ===\n",
      "Top 5 CDC Records:\n",
      "          states  year week    label m1_flag m2 m2_flag m3_flag m4_flag  \\\n",
      "0   US RESIDENTS  2022    1  Anthrax       -  0       -       -       -   \n",
      "1    NEW ENGLAND  2022    1  Anthrax       -  0       -       -       -   \n",
      "2    CONNECTICUT  2022    1  Anthrax       -  0       -       -       -   \n",
      "3          MAINE  2022    1  Anthrax       -  0       -       -       -   \n",
      "4  MASSACHUSETTS  2022    1  Anthrax       -  0       -       -       -   \n",
      "\n",
      "      location2   sort_order      location1  \\\n",
      "0  US RESIDENTS  20220100001            NaN   \n",
      "1   NEW ENGLAND  20220100002            NaN   \n",
      "2           NaN  20220100003    CONNECTICUT   \n",
      "3           NaN  20220100004          MAINE   \n",
      "4           NaN  20220100005  MASSACHUSETTS   \n",
      "\n",
      "                                             geocode  \\\n",
      "0                                                NaN   \n",
      "1                                                NaN   \n",
      "2  {'type': 'Point', 'coordinates': [-72.738288, ...   \n",
      "3  {'type': 'Point', 'coordinates': [-69.06137, 4...   \n",
      "4  {'type': 'Point', 'coordinates': [-71.481104, ...   \n",
      "\n",
      "  :@computed_region_hjsp_umg2 :@computed_region_skr5_azej   m4   m1   m3  \n",
      "0                         NaN                         NaN  NaN  NaN  NaN  \n",
      "1                         NaN                         NaN  NaN  NaN  NaN  \n",
      "2                          24                        1043  NaN  NaN  NaN  \n",
      "3                          49                        1725  NaN  NaN  NaN  \n",
      "4                          25                        1916  NaN  NaN  NaN  \n"
     ]
    }
   ],
   "source": [
    "import requests\n",
    "import pandas as pd\n",
    "\n",
    "# === WHO Athena API Example ===\n",
    "def fetch_who_disease_data(disease_keyword='malaria'):\n",
    "    url = f\"https://ghoapi.azureedge.net/api/Indicator?$filter=contains(IndicatorName,'Malaria')\"\n",
    "    response = requests.get(url)\n",
    "    if response.ok:\n",
    "        indicators = response.json()['value']\n",
    "        for i, ind in enumerate(indicators[:3]):  # Show top 3 matches\n",
    "            print(f\"{i+1}. {ind['IndicatorCode']}: {ind['IndicatorName']}\")\n",
    "    else:\n",
    "        print(\"Failed to fetch WHO data\")\n",
    "\n",
    "# === CDC Socrata API Example ===\n",
    "def fetch_cdc_notifiable_diseases():\n",
    "    url = \"https://data.cdc.gov/resource/x9gk-5huc.json?$limit=1000\"\n",
    "    response = requests.get(url)\n",
    "    if response.ok:\n",
    "        data = pd.DataFrame(response.json())\n",
    "        print(\"Top 5 CDC Records:\")\n",
    "        print(data.head())\n",
    "    else:\n",
    "        print(\"Failed to fetch CDC data\")\n",
    "\n",
    "if __name__ == \"__main__\":\n",
    "    print(\"=== WHO Data (Athena API) ===\")\n",
    "    fetch_who_disease_data('malaria')  # or 'malaria', 'tb', etc.\n",
    "\n",
    "    print(\"\\n=== CDC Notifiable Diseases (Socrata API) ===\")\n",
    "    fetch_cdc_notifiable_diseases()"
   ]
  },
  {
   "cell_type": "code",
   "execution_count": 2,
   "id": "887b075d",
   "metadata": {},
   "outputs": [
    {
     "ename": "NameError",
     "evalue": "name 'data' is not defined",
     "output_type": "error",
     "traceback": [
      "\u001b[1;31m---------------------------------------------------------------------------\u001b[0m",
      "\u001b[1;31mNameError\u001b[0m                                 Traceback (most recent call last)",
      "Cell \u001b[1;32mIn[2], line 1\u001b[0m\n\u001b[1;32m----> 1\u001b[0m data\u001b[38;5;241m.\u001b[39mto_csv()\n",
      "\u001b[1;31mNameError\u001b[0m: name 'data' is not defined"
     ]
    }
   ],
   "source": [
    "data.to_csv()"
   ]
  }
 ],
 "metadata": {
  "kernelspec": {
   "display_name": "base",
   "language": "python",
   "name": "python3"
  },
  "language_info": {
   "codemirror_mode": {
    "name": "ipython",
    "version": 3
   },
   "file_extension": ".py",
   "mimetype": "text/x-python",
   "name": "python",
   "nbconvert_exporter": "python",
   "pygments_lexer": "ipython3",
   "version": "3.12.3"
  }
 },
 "nbformat": 4,
 "nbformat_minor": 5
}
